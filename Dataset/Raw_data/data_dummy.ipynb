{
 "cells": [
  {
   "cell_type": "code",
   "execution_count": 3,
   "metadata": {},
   "outputs": [],
   "source": [
    "import pandas as pd\n",
    "import numpy as np\n",
    "import random"
   ]
  },
  {
   "cell_type": "code",
   "execution_count": 9,
   "metadata": {},
   "outputs": [
    {
     "name": "stdout",
     "output_type": "stream",
     "text": [
      "      name  gender  age  body_weight  body_length breastfeeding\n",
      "0   Jayden    male   53          7.8         82.8           Yes\n",
      "1   Stella    male   54         13.4         53.1           Yes\n",
      "2     Emma    male   41         10.6         77.7           Yes\n",
      "3   Sophia  female   14          5.1         90.8           Yes\n",
      "4  Jackson    male    7         11.6         87.3           Yes\n"
     ]
    }
   ],
   "source": [
    "# Menentukan jumlah baris data dummy\n",
    "num_rows = 100\n",
    "\n",
    "# Daftar nama yang akan digunakan untuk pengisian acak\n",
    "names = [\n",
    "    'Aiden', 'Olivia', 'Liam', 'Emma', 'Noah', 'Ava', 'Sophia', 'Isabella', 'Mason', 'Mia',\n",
    "    'James', 'Charlotte', 'Benjamin', 'Amelia', 'Elijah', 'Harper', 'Lucas', 'Evelyn', 'Alexander', 'Abigail',\n",
    "    'Ethan', 'Emily', 'Henry', 'Elizabeth', 'Sebastian', 'Sofia', 'Jack', 'Avery', 'Owen', 'Ella',\n",
    "    'Jackson', 'Scarlett', 'Mateo', 'Grace', 'Daniel', 'Chloe', 'Michael', 'Lily', 'Gabriel', 'Aubrey',\n",
    "    'Carter', 'Zoe', 'Wyatt', 'Aria', 'Jayden', 'Hannah', 'John', 'Mila', 'Luke', 'Addison',\n",
    "    'Levi', 'Eleanor', 'Isaac', 'Nora', 'David', 'Riley', 'Matthew', 'Penelope', 'Julian', 'Hazel',\n",
    "    'Grayson', 'Luna', 'Leo', 'Layla', 'Jaxon', 'Ellie', 'Josiah', 'Stella', 'Christopher', 'Aurora',\n",
    "    'Andrew', 'Natalie', 'Lincoln', 'Emilia', 'Thomas', 'Everly', 'Maverick', 'Leah', 'Caleb', 'Victoria',\n",
    "    'Ryan', 'Madison', 'Asher', 'Lillian', 'Nathan', 'Paisley', 'Isaiah', 'Savannah', 'Charles', 'Skylar',\n",
    "    'Thomas', 'Genesis', 'Eli', 'Naomi', 'Landon', 'Ariana', 'Miles', 'Elena', 'Adrian', 'Caroline'\n",
    "]\n",
    "\n",
    "# Membuat data dummy dengan kolom-kolom yang diperlukan\n",
    "data = {\n",
    "    'name': [random.choice(names) for _ in range(num_rows)],  # Nama balita dengan pengisian acak dari daftar\n",
    "    'gender': np.random.choice(['male', 'female'], size=num_rows),\n",
    "    'age': np.random.randint(6, 60, size=num_rows),  # Usia balita dalam bulan\n",
    "    'body_weight': np.round(np.random.uniform(5, 20, size=num_rows), 1),  # Berat badan dalam kg\n",
    "    'body_length': np.round(np.random.uniform(50, 110, size=num_rows), 1),  # Tinggi badan dalam cm\n",
    "    'breastfeeding': np.random.choice(['Yes', 'No'], size=num_rows)  # Status menyusui\n",
    "}\n",
    "\n",
    "# Membuat DataFrame\n",
    "df_dummy = pd.DataFrame(data)\n",
    "\n",
    "# Menampilkan DataFrame\n",
    "print(df_dummy.head())"
   ]
  },
  {
   "cell_type": "code",
   "execution_count": 10,
   "metadata": {},
   "outputs": [
    {
     "data": {
      "text/plain": [
       "(100, 6)"
      ]
     },
     "execution_count": 10,
     "metadata": {},
     "output_type": "execute_result"
    }
   ],
   "source": [
    "df_dummy.shape"
   ]
  },
  {
   "cell_type": "code",
   "execution_count": 12,
   "metadata": {},
   "outputs": [],
   "source": [
    "df_dummy.to_csv('data_dummy_balita.csv', index=False)"
   ]
  },
  {
   "cell_type": "code",
   "execution_count": null,
   "metadata": {},
   "outputs": [],
   "source": []
  }
 ],
 "metadata": {
  "kernelspec": {
   "display_name": "Python 3",
   "language": "python",
   "name": "python3"
  },
  "language_info": {
   "codemirror_mode": {
    "name": "ipython",
    "version": 3
   },
   "file_extension": ".py",
   "mimetype": "text/x-python",
   "name": "python",
   "nbconvert_exporter": "python",
   "pygments_lexer": "ipython3",
   "version": "3.10.7"
  }
 },
 "nbformat": 4,
 "nbformat_minor": 2
}
