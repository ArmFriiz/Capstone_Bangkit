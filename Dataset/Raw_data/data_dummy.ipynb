{
 "cells": [
  {
   "cell_type": "code",
   "execution_count": 2,
   "metadata": {},
   "outputs": [],
   "source": [
    "import pandas as pd\n",
    "import numpy as np\n",
    "import random"
   ]
  },
  {
   "cell_type": "code",
   "execution_count": 3,
   "metadata": {},
   "outputs": [
    {
     "name": "stdout",
     "output_type": "stream",
     "text": [
      "        name  gender  age  body_weight  body_length breastfeeding\n",
      "0      Riley    male   46          5.0         70.3            No\n",
      "1    Charles  female   13         14.3         90.8           Yes\n",
      "2      Caleb    male   29          9.6         80.0            No\n",
      "3      Ethan  female   25          7.2        100.5            No\n",
      "4  Sebastian  female   48         11.8         73.0           Yes\n"
     ]
    }
   ],
   "source": [
    "# Menentukan jumlah baris data dummy\n",
    "num_rows = 100\n",
    "\n",
    "# Daftar nama yang akan digunakan untuk pengisian acak\n",
    "names = [\n",
    "    'Aiden', 'Olivia', 'Liam', 'Emma', 'Noah', 'Ava', 'Sophia', 'Isabella', 'Mason', 'Mia',\n",
    "    'James', 'Charlotte', 'Benjamin', 'Amelia', 'Elijah', 'Harper', 'Lucas', 'Evelyn', 'Alexander', 'Abigail',\n",
    "    'Ethan', 'Emily', 'Henry', 'Elizabeth', 'Sebastian', 'Sofia', 'Jack', 'Avery', 'Owen', 'Ella',\n",
    "    'Jackson', 'Scarlett', 'Mateo', 'Grace', 'Daniel', 'Chloe', 'Michael', 'Lily', 'Gabriel', 'Aubrey',\n",
    "    'Carter', 'Zoe', 'Wyatt', 'Aria', 'Jayden', 'Hannah', 'John', 'Mila', 'Luke', 'Addison',\n",
    "    'Levi', 'Eleanor', 'Isaac', 'Nora', 'David', 'Riley', 'Matthew', 'Penelope', 'Julian', 'Hazel',\n",
    "    'Grayson', 'Luna', 'Leo', 'Layla', 'Jaxon', 'Ellie', 'Josiah', 'Stella', 'Christopher', 'Aurora',\n",
    "    'Andrew', 'Natalie', 'Lincoln', 'Emilia', 'Thomas', 'Everly', 'Maverick', 'Leah', 'Caleb', 'Victoria',\n",
    "    'Ryan', 'Madison', 'Asher', 'Lillian', 'Nathan', 'Paisley', 'Isaiah', 'Savannah', 'Charles', 'Skylar',\n",
    "    'Thomas', 'Genesis', 'Eli', 'Naomi', 'Landon', 'Ariana', 'Miles', 'Elena', 'Adrian', 'Caroline'\n",
    "]\n",
    "\n",
    "# Membuat data dummy dengan kolom-kolom yang diperlukan\n",
    "data = {\n",
    "    'name': [random.choice(names) for _ in range(num_rows)],  # Nama balita dengan pengisian acak dari daftar\n",
    "    'gender': np.random.choice(['male', 'female'], size=num_rows),\n",
    "    'age': np.random.randint(6, 60, size=num_rows),  # Usia balita dalam bulan\n",
    "    'body_weight': np.round(np.random.uniform(5, 20, size=num_rows), 1),  # Berat badan dalam kg\n",
    "    'body_length': np.round(np.random.uniform(50, 110, size=num_rows), 1),  # Tinggi badan dalam cm\n",
    "    'breastfeeding': np.random.choice(['Yes', 'No'], size=num_rows)  # Status menyusui\n",
    "}\n",
    "\n",
    "# Membuat DataFrame\n",
    "df_dummy = pd.DataFrame(data)\n",
    "\n",
    "# Menampilkan DataFrame\n",
    "print(df_dummy.head())"
   ]
  },
  {
   "cell_type": "code",
   "execution_count": 4,
   "metadata": {},
   "outputs": [
    {
     "data": {
      "text/plain": [
       "(100, 6)"
      ]
     },
     "execution_count": 4,
     "metadata": {},
     "output_type": "execute_result"
    }
   ],
   "source": [
    "df_dummy.shape"
   ]
  },
  {
   "cell_type": "code",
   "execution_count": 5,
   "metadata": {},
   "outputs": [],
   "source": [
    "df_dummy = df_dummy.drop(columns=['name'])"
   ]
  },
  {
   "cell_type": "code",
   "execution_count": 6,
   "metadata": {},
   "outputs": [
    {
     "name": "stdout",
     "output_type": "stream",
     "text": [
      "   gender  age  body_weight  body_length breastfeeding\n",
      "0    male   46          5.0         70.3            No\n",
      "1  female   13         14.3         90.8           Yes\n",
      "2    male   29          9.6         80.0            No\n",
      "3  female   25          7.2        100.5            No\n",
      "4  female   48         11.8         73.0           Yes\n"
     ]
    }
   ],
   "source": [
    "print(df_dummy.head())"
   ]
  },
  {
   "cell_type": "code",
   "execution_count": 7,
   "metadata": {},
   "outputs": [],
   "source": [
    "df_dummy.to_csv('data_dummy_balita.csv', index=False)"
   ]
  },
  {
   "cell_type": "code",
   "execution_count": null,
   "metadata": {},
   "outputs": [],
   "source": []
  }
 ],
 "metadata": {
  "kernelspec": {
   "display_name": "Python 3",
   "language": "python",
   "name": "python3"
  },
  "language_info": {
   "codemirror_mode": {
    "name": "ipython",
    "version": 3
   },
   "file_extension": ".py",
   "mimetype": "text/x-python",
   "name": "python",
   "nbconvert_exporter": "python",
   "pygments_lexer": "ipython3",
   "version": "3.10.7"
  }
 },
 "nbformat": 4,
 "nbformat_minor": 2
}
