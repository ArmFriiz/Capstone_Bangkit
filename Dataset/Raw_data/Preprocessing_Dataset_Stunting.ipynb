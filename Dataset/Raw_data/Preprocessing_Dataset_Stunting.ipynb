{
 "cells": [
  {
   "cell_type": "code",
   "execution_count": 2,
   "id": "initial_id",
   "metadata": {
    "collapsed": true,
    "ExecuteTime": {
     "end_time": "2024-05-23T10:20:05.365016Z",
     "start_time": "2024-05-23T10:20:04.750457100Z"
    }
   },
   "outputs": [],
   "source": [
    "import pandas as pd"
   ]
  },
  {
   "cell_type": "code",
   "execution_count": 3,
   "outputs": [
    {
     "data": {
      "text/plain": "   Gender  Age  Birth Weight  Birth Length  Body Weight  Body Length  \\\n0    Male   17           3.0            49         10.0         72.2   \n1  Female   11           2.9            49          2.9         65.0   \n2    Male   16           2.9            49          8.5         72.2   \n3    Male   31           2.8            49          6.4         63.0   \n4    Male   15           3.1            49         10.5         49.0   \n\n  Breastfeeding Stunting  \n0            No       No  \n1            No      Yes  \n2            No      Yes  \n3            No      Yes  \n4            No      Yes  ",
      "text/html": "<div>\n<style scoped>\n    .dataframe tbody tr th:only-of-type {\n        vertical-align: middle;\n    }\n\n    .dataframe tbody tr th {\n        vertical-align: top;\n    }\n\n    .dataframe thead th {\n        text-align: right;\n    }\n</style>\n<table border=\"1\" class=\"dataframe\">\n  <thead>\n    <tr style=\"text-align: right;\">\n      <th></th>\n      <th>Gender</th>\n      <th>Age</th>\n      <th>Birth Weight</th>\n      <th>Birth Length</th>\n      <th>Body Weight</th>\n      <th>Body Length</th>\n      <th>Breastfeeding</th>\n      <th>Stunting</th>\n    </tr>\n  </thead>\n  <tbody>\n    <tr>\n      <th>0</th>\n      <td>Male</td>\n      <td>17</td>\n      <td>3.0</td>\n      <td>49</td>\n      <td>10.0</td>\n      <td>72.2</td>\n      <td>No</td>\n      <td>No</td>\n    </tr>\n    <tr>\n      <th>1</th>\n      <td>Female</td>\n      <td>11</td>\n      <td>2.9</td>\n      <td>49</td>\n      <td>2.9</td>\n      <td>65.0</td>\n      <td>No</td>\n      <td>Yes</td>\n    </tr>\n    <tr>\n      <th>2</th>\n      <td>Male</td>\n      <td>16</td>\n      <td>2.9</td>\n      <td>49</td>\n      <td>8.5</td>\n      <td>72.2</td>\n      <td>No</td>\n      <td>Yes</td>\n    </tr>\n    <tr>\n      <th>3</th>\n      <td>Male</td>\n      <td>31</td>\n      <td>2.8</td>\n      <td>49</td>\n      <td>6.4</td>\n      <td>63.0</td>\n      <td>No</td>\n      <td>Yes</td>\n    </tr>\n    <tr>\n      <th>4</th>\n      <td>Male</td>\n      <td>15</td>\n      <td>3.1</td>\n      <td>49</td>\n      <td>10.5</td>\n      <td>49.0</td>\n      <td>No</td>\n      <td>Yes</td>\n    </tr>\n  </tbody>\n</table>\n</div>"
     },
     "execution_count": 3,
     "metadata": {},
     "output_type": "execute_result"
    }
   ],
   "source": [
    "data_stunt  = pd.read_csv('Stunting_Dataset.csv')\n",
    "data_stunt.head()"
   ],
   "metadata": {
    "collapsed": false,
    "ExecuteTime": {
     "end_time": "2024-05-23T10:20:06.892109600Z",
     "start_time": "2024-05-23T10:20:06.839860300Z"
    }
   },
   "id": "3084c085e2a90006"
  },
  {
   "cell_type": "code",
   "execution_count": 4,
   "outputs": [
    {
     "data": {
      "text/plain": "(10000, 8)"
     },
     "execution_count": 4,
     "metadata": {},
     "output_type": "execute_result"
    }
   ],
   "source": [
    "data_stunt.shape"
   ],
   "metadata": {
    "collapsed": false,
    "ExecuteTime": {
     "end_time": "2024-05-23T10:20:09.672858900Z",
     "start_time": "2024-05-23T10:20:09.641247800Z"
    }
   },
   "id": "1cc72f29001a9ebe"
  },
  {
   "cell_type": "markdown",
   "source": [
    "# Assessing Data"
   ],
   "metadata": {
    "collapsed": false
   },
   "id": "cf13b1f86014ccbd"
  },
  {
   "cell_type": "code",
   "execution_count": 5,
   "outputs": [
    {
     "name": "stdout",
     "output_type": "stream",
     "text": [
      "<class 'pandas.core.frame.DataFrame'>\n",
      "RangeIndex: 10000 entries, 0 to 9999\n",
      "Data columns (total 8 columns):\n",
      " #   Column         Non-Null Count  Dtype  \n",
      "---  ------         --------------  -----  \n",
      " 0   Gender         10000 non-null  object \n",
      " 1   Age            10000 non-null  int64  \n",
      " 2   Birth Weight   10000 non-null  float64\n",
      " 3   Birth Length   10000 non-null  int64  \n",
      " 4   Body Weight    10000 non-null  float64\n",
      " 5   Body Length    10000 non-null  float64\n",
      " 6   Breastfeeding  10000 non-null  object \n",
      " 7   Stunting       10000 non-null  object \n",
      "dtypes: float64(3), int64(2), object(3)\n",
      "memory usage: 625.1+ KB\n"
     ]
    }
   ],
   "source": [
    "data_stunt.info()"
   ],
   "metadata": {
    "collapsed": false,
    "ExecuteTime": {
     "end_time": "2024-05-23T10:20:13.490351700Z",
     "start_time": "2024-05-23T10:20:13.447603600Z"
    }
   },
   "id": "cd888c23e54044b0"
  },
  {
   "cell_type": "code",
   "execution_count": 6,
   "outputs": [
    {
     "data": {
      "text/plain": "Gender           0\nAge              0\nBirth Weight     0\nBirth Length     0\nBody Weight      0\nBody Length      0\nBreastfeeding    0\nStunting         0\ndtype: int64"
     },
     "execution_count": 6,
     "metadata": {},
     "output_type": "execute_result"
    }
   ],
   "source": [
    "data_stunt.isna().sum()"
   ],
   "metadata": {
    "collapsed": false,
    "ExecuteTime": {
     "end_time": "2024-05-23T10:20:15.755180800Z",
     "start_time": "2024-05-23T10:20:15.742655400Z"
    }
   },
   "id": "e50f1e282eeb2973"
  },
  {
   "cell_type": "code",
   "execution_count": 7,
   "outputs": [
    {
     "name": "stdout",
     "output_type": "stream",
     "text": [
      "Duplicated:  2427\n"
     ]
    }
   ],
   "source": [
    "print(\"Duplicated: \", data_stunt.duplicated().sum())"
   ],
   "metadata": {
    "collapsed": false,
    "ExecuteTime": {
     "end_time": "2024-05-23T10:20:17.394979300Z",
     "start_time": "2024-05-23T10:20:17.380642100Z"
    }
   },
   "id": "8e3f93b009f3363a"
  },
  {
   "cell_type": "code",
   "execution_count": 8,
   "outputs": [],
   "source": [
    "data_stunt.drop_duplicates(inplace=True)"
   ],
   "metadata": {
    "collapsed": false,
    "ExecuteTime": {
     "end_time": "2024-05-23T10:20:21.179903400Z",
     "start_time": "2024-05-23T10:20:21.157652100Z"
    }
   },
   "id": "c0d77a8c89586ec9"
  },
  {
   "cell_type": "code",
   "execution_count": 9,
   "outputs": [
    {
     "name": "stdout",
     "output_type": "stream",
     "text": [
      "Duplicated:  0\n"
     ]
    }
   ],
   "source": [
    "print(\"Duplicated: \", data_stunt.duplicated().sum())"
   ],
   "metadata": {
    "collapsed": false,
    "ExecuteTime": {
     "end_time": "2024-05-23T10:20:22.536372400Z",
     "start_time": "2024-05-23T10:20:22.513602300Z"
    }
   },
   "id": "be0c8e8dc00cc05b"
  },
  {
   "cell_type": "code",
   "execution_count": 10,
   "outputs": [
    {
     "data": {
      "text/plain": "               Age  Birth Weight  Birth Length  Body Weight  Body Length\ncount  7573.000000   7573.000000   7573.000000  7573.000000  7573.000000\nmean     14.886967      2.762208     49.084643     7.630648    69.120269\nstd       8.580291      0.297725      0.436202     1.762529     9.401527\nmin       6.000000      2.000000     48.000000     2.900000    49.000000\n25%      10.000000      2.800000     49.000000     7.000000    65.000000\n50%      13.000000      2.800000     49.000000     7.700000    69.000000\n75%      16.000000      3.000000     49.000000     9.000000    72.200000\nmax      48.000000      3.100000     50.000000    10.500000    92.700000",
      "text/html": "<div>\n<style scoped>\n    .dataframe tbody tr th:only-of-type {\n        vertical-align: middle;\n    }\n\n    .dataframe tbody tr th {\n        vertical-align: top;\n    }\n\n    .dataframe thead th {\n        text-align: right;\n    }\n</style>\n<table border=\"1\" class=\"dataframe\">\n  <thead>\n    <tr style=\"text-align: right;\">\n      <th></th>\n      <th>Age</th>\n      <th>Birth Weight</th>\n      <th>Birth Length</th>\n      <th>Body Weight</th>\n      <th>Body Length</th>\n    </tr>\n  </thead>\n  <tbody>\n    <tr>\n      <th>count</th>\n      <td>7573.000000</td>\n      <td>7573.000000</td>\n      <td>7573.000000</td>\n      <td>7573.000000</td>\n      <td>7573.000000</td>\n    </tr>\n    <tr>\n      <th>mean</th>\n      <td>14.886967</td>\n      <td>2.762208</td>\n      <td>49.084643</td>\n      <td>7.630648</td>\n      <td>69.120269</td>\n    </tr>\n    <tr>\n      <th>std</th>\n      <td>8.580291</td>\n      <td>0.297725</td>\n      <td>0.436202</td>\n      <td>1.762529</td>\n      <td>9.401527</td>\n    </tr>\n    <tr>\n      <th>min</th>\n      <td>6.000000</td>\n      <td>2.000000</td>\n      <td>48.000000</td>\n      <td>2.900000</td>\n      <td>49.000000</td>\n    </tr>\n    <tr>\n      <th>25%</th>\n      <td>10.000000</td>\n      <td>2.800000</td>\n      <td>49.000000</td>\n      <td>7.000000</td>\n      <td>65.000000</td>\n    </tr>\n    <tr>\n      <th>50%</th>\n      <td>13.000000</td>\n      <td>2.800000</td>\n      <td>49.000000</td>\n      <td>7.700000</td>\n      <td>69.000000</td>\n    </tr>\n    <tr>\n      <th>75%</th>\n      <td>16.000000</td>\n      <td>3.000000</td>\n      <td>49.000000</td>\n      <td>9.000000</td>\n      <td>72.200000</td>\n    </tr>\n    <tr>\n      <th>max</th>\n      <td>48.000000</td>\n      <td>3.100000</td>\n      <td>50.000000</td>\n      <td>10.500000</td>\n      <td>92.700000</td>\n    </tr>\n  </tbody>\n</table>\n</div>"
     },
     "execution_count": 10,
     "metadata": {},
     "output_type": "execute_result"
    }
   ],
   "source": [
    "data_stunt.describe()"
   ],
   "metadata": {
    "collapsed": false,
    "ExecuteTime": {
     "end_time": "2024-05-23T10:20:25.673046400Z",
     "start_time": "2024-05-23T10:20:25.644557300Z"
    }
   },
   "id": "9684d22065a43f1a"
  },
  {
   "cell_type": "code",
   "execution_count": 11,
   "outputs": [
    {
     "data": {
      "text/plain": "(7573, 8)"
     },
     "execution_count": 11,
     "metadata": {},
     "output_type": "execute_result"
    }
   ],
   "source": [
    "data_stunt.shape"
   ],
   "metadata": {
    "collapsed": false,
    "ExecuteTime": {
     "end_time": "2024-05-23T10:20:27.955891900Z",
     "start_time": "2024-05-23T10:20:27.939588500Z"
    }
   },
   "id": "28b6e544e4c6e8d"
  },
  {
   "cell_type": "code",
   "execution_count": 16,
   "outputs": [],
   "source": [
    "data_stunt.to_csv('dataset_bersih.csv', index=False)"
   ],
   "metadata": {
    "collapsed": false,
    "ExecuteTime": {
     "end_time": "2024-05-23T10:23:51.927024800Z",
     "start_time": "2024-05-23T10:23:51.879673100Z"
    }
   },
   "id": "569aaa94f7864eb"
  },
  {
   "cell_type": "code",
   "execution_count": null,
   "outputs": [],
   "source": [],
   "metadata": {
    "collapsed": false
   },
   "id": "6b3817a0ddbf99ba"
  }
 ],
 "metadata": {
  "kernelspec": {
   "display_name": "Python 3",
   "language": "python",
   "name": "python3"
  },
  "language_info": {
   "codemirror_mode": {
    "name": "ipython",
    "version": 2
   },
   "file_extension": ".py",
   "mimetype": "text/x-python",
   "name": "python",
   "nbconvert_exporter": "python",
   "pygments_lexer": "ipython2",
   "version": "2.7.6"
  }
 },
 "nbformat": 4,
 "nbformat_minor": 5
}
