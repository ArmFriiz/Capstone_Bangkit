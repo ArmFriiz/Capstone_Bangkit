{
 "cells": [
  {
   "cell_type": "code",
   "execution_count": 2,
   "id": "initial_id",
   "metadata": {
    "ExecuteTime": {
     "end_time": "2024-05-23T10:20:05.365016Z",
     "start_time": "2024-05-23T10:20:04.750457100Z"
    },
    "collapsed": true
   },
   "outputs": [],
   "source": [
    "import pandas as pd"
   ]
  },
  {
   "cell_type": "code",
   "execution_count": 3,
   "id": "3084c085e2a90006",
   "metadata": {
    "ExecuteTime": {
     "end_time": "2024-05-23T10:20:06.892109600Z",
     "start_time": "2024-05-23T10:20:06.839860300Z"
    },
    "collapsed": false
   },
   "outputs": [
    {
     "data": {
      "text/html": [
       "<div>\n",
       "<style scoped>\n",
       "    .dataframe tbody tr th:only-of-type {\n",
       "        vertical-align: middle;\n",
       "    }\n",
       "\n",
       "    .dataframe tbody tr th {\n",
       "        vertical-align: top;\n",
       "    }\n",
       "\n",
       "    .dataframe thead th {\n",
       "        text-align: right;\n",
       "    }\n",
       "</style>\n",
       "<table border=\"1\" class=\"dataframe\">\n",
       "  <thead>\n",
       "    <tr style=\"text-align: right;\">\n",
       "      <th></th>\n",
       "      <th>Gender</th>\n",
       "      <th>Age</th>\n",
       "      <th>Birth Weight</th>\n",
       "      <th>Birth Length</th>\n",
       "      <th>Body Weight</th>\n",
       "      <th>Body Length</th>\n",
       "      <th>Breastfeeding</th>\n",
       "      <th>Stunting</th>\n",
       "    </tr>\n",
       "  </thead>\n",
       "  <tbody>\n",
       "    <tr>\n",
       "      <th>0</th>\n",
       "      <td>Male</td>\n",
       "      <td>17</td>\n",
       "      <td>3.0</td>\n",
       "      <td>49</td>\n",
       "      <td>10.0</td>\n",
       "      <td>72.2</td>\n",
       "      <td>No</td>\n",
       "      <td>No</td>\n",
       "    </tr>\n",
       "    <tr>\n",
       "      <th>1</th>\n",
       "      <td>Female</td>\n",
       "      <td>11</td>\n",
       "      <td>2.9</td>\n",
       "      <td>49</td>\n",
       "      <td>2.9</td>\n",
       "      <td>65.0</td>\n",
       "      <td>No</td>\n",
       "      <td>Yes</td>\n",
       "    </tr>\n",
       "    <tr>\n",
       "      <th>2</th>\n",
       "      <td>Male</td>\n",
       "      <td>16</td>\n",
       "      <td>2.9</td>\n",
       "      <td>49</td>\n",
       "      <td>8.5</td>\n",
       "      <td>72.2</td>\n",
       "      <td>No</td>\n",
       "      <td>Yes</td>\n",
       "    </tr>\n",
       "    <tr>\n",
       "      <th>3</th>\n",
       "      <td>Male</td>\n",
       "      <td>31</td>\n",
       "      <td>2.8</td>\n",
       "      <td>49</td>\n",
       "      <td>6.4</td>\n",
       "      <td>63.0</td>\n",
       "      <td>No</td>\n",
       "      <td>Yes</td>\n",
       "    </tr>\n",
       "    <tr>\n",
       "      <th>4</th>\n",
       "      <td>Male</td>\n",
       "      <td>15</td>\n",
       "      <td>3.1</td>\n",
       "      <td>49</td>\n",
       "      <td>10.5</td>\n",
       "      <td>49.0</td>\n",
       "      <td>No</td>\n",
       "      <td>Yes</td>\n",
       "    </tr>\n",
       "  </tbody>\n",
       "</table>\n",
       "</div>"
      ],
      "text/plain": [
       "   Gender  Age  Birth Weight  Birth Length  Body Weight  Body Length  \\\n",
       "0    Male   17           3.0            49         10.0         72.2   \n",
       "1  Female   11           2.9            49          2.9         65.0   \n",
       "2    Male   16           2.9            49          8.5         72.2   \n",
       "3    Male   31           2.8            49          6.4         63.0   \n",
       "4    Male   15           3.1            49         10.5         49.0   \n",
       "\n",
       "  Breastfeeding Stunting  \n",
       "0            No       No  \n",
       "1            No      Yes  \n",
       "2            No      Yes  \n",
       "3            No      Yes  \n",
       "4            No      Yes  "
      ]
     },
     "execution_count": 3,
     "metadata": {},
     "output_type": "execute_result"
    }
   ],
   "source": [
    "data_stunt  = pd.read_csv('Stunting_Dataset.csv')\n",
    "data_stunt.head()"
   ]
  },
  {
   "cell_type": "code",
   "execution_count": 4,
   "id": "1cc72f29001a9ebe",
   "metadata": {
    "ExecuteTime": {
     "end_time": "2024-05-23T10:20:09.672858900Z",
     "start_time": "2024-05-23T10:20:09.641247800Z"
    },
    "collapsed": false
   },
   "outputs": [
    {
     "data": {
      "text/plain": [
       "(10000, 8)"
      ]
     },
     "execution_count": 4,
     "metadata": {},
     "output_type": "execute_result"
    }
   ],
   "source": [
    "data_stunt.shape"
   ]
  },
  {
   "cell_type": "markdown",
   "id": "cf13b1f86014ccbd",
   "metadata": {
    "collapsed": false
   },
   "source": [
    "# Assessing Data"
   ]
  },
  {
   "cell_type": "code",
   "execution_count": 5,
   "id": "cd888c23e54044b0",
   "metadata": {
    "ExecuteTime": {
     "end_time": "2024-05-23T10:20:13.490351700Z",
     "start_time": "2024-05-23T10:20:13.447603600Z"
    },
    "collapsed": false
   },
   "outputs": [
    {
     "name": "stdout",
     "output_type": "stream",
     "text": [
      "<class 'pandas.core.frame.DataFrame'>\n",
      "RangeIndex: 10000 entries, 0 to 9999\n",
      "Data columns (total 8 columns):\n",
      " #   Column         Non-Null Count  Dtype  \n",
      "---  ------         --------------  -----  \n",
      " 0   Gender         10000 non-null  object \n",
      " 1   Age            10000 non-null  int64  \n",
      " 2   Birth Weight   10000 non-null  float64\n",
      " 3   Birth Length   10000 non-null  int64  \n",
      " 4   Body Weight    10000 non-null  float64\n",
      " 5   Body Length    10000 non-null  float64\n",
      " 6   Breastfeeding  10000 non-null  object \n",
      " 7   Stunting       10000 non-null  object \n",
      "dtypes: float64(3), int64(2), object(3)\n",
      "memory usage: 625.1+ KB\n"
     ]
    }
   ],
   "source": [
    "data_stunt.info()"
   ]
  },
  {
   "cell_type": "code",
   "execution_count": 6,
   "id": "e50f1e282eeb2973",
   "metadata": {
    "ExecuteTime": {
     "end_time": "2024-05-23T10:20:15.755180800Z",
     "start_time": "2024-05-23T10:20:15.742655400Z"
    },
    "collapsed": false
   },
   "outputs": [
    {
     "data": {
      "text/plain": [
       "Gender           0\n",
       "Age              0\n",
       "Birth Weight     0\n",
       "Birth Length     0\n",
       "Body Weight      0\n",
       "Body Length      0\n",
       "Breastfeeding    0\n",
       "Stunting         0\n",
       "dtype: int64"
      ]
     },
     "execution_count": 6,
     "metadata": {},
     "output_type": "execute_result"
    }
   ],
   "source": [
    "data_stunt.isna().sum()"
   ]
  },
  {
   "cell_type": "code",
   "execution_count": 7,
   "id": "8e3f93b009f3363a",
   "metadata": {
    "ExecuteTime": {
     "end_time": "2024-05-23T10:20:17.394979300Z",
     "start_time": "2024-05-23T10:20:17.380642100Z"
    },
    "collapsed": false
   },
   "outputs": [
    {
     "name": "stdout",
     "output_type": "stream",
     "text": [
      "Duplicated:  2427\n"
     ]
    }
   ],
   "source": [
    "print(\"Duplicated: \", data_stunt.duplicated().sum())"
   ]
  },
  {
   "cell_type": "markdown",
   "id": "47926334",
   "metadata": {},
   "source": [
    "* Menghapus duplikat data"
   ]
  },
  {
   "cell_type": "code",
   "execution_count": 8,
   "id": "c0d77a8c89586ec9",
   "metadata": {
    "ExecuteTime": {
     "end_time": "2024-05-23T10:20:21.179903400Z",
     "start_time": "2024-05-23T10:20:21.157652100Z"
    },
    "collapsed": false
   },
   "outputs": [],
   "source": [
    "data_stunt.drop_duplicates(inplace=True)"
   ]
  },
  {
   "cell_type": "code",
   "execution_count": 9,
   "id": "be0c8e8dc00cc05b",
   "metadata": {
    "ExecuteTime": {
     "end_time": "2024-05-23T10:20:22.536372400Z",
     "start_time": "2024-05-23T10:20:22.513602300Z"
    },
    "collapsed": false
   },
   "outputs": [
    {
     "name": "stdout",
     "output_type": "stream",
     "text": [
      "Duplicated:  0\n"
     ]
    }
   ],
   "source": [
    "print(\"Duplicated: \", data_stunt.duplicated().sum())"
   ]
  },
  {
   "cell_type": "code",
   "execution_count": 10,
   "id": "9684d22065a43f1a",
   "metadata": {
    "ExecuteTime": {
     "end_time": "2024-05-23T10:20:25.673046400Z",
     "start_time": "2024-05-23T10:20:25.644557300Z"
    },
    "collapsed": false
   },
   "outputs": [
    {
     "data": {
      "text/html": [
       "<div>\n",
       "<style scoped>\n",
       "    .dataframe tbody tr th:only-of-type {\n",
       "        vertical-align: middle;\n",
       "    }\n",
       "\n",
       "    .dataframe tbody tr th {\n",
       "        vertical-align: top;\n",
       "    }\n",
       "\n",
       "    .dataframe thead th {\n",
       "        text-align: right;\n",
       "    }\n",
       "</style>\n",
       "<table border=\"1\" class=\"dataframe\">\n",
       "  <thead>\n",
       "    <tr style=\"text-align: right;\">\n",
       "      <th></th>\n",
       "      <th>Age</th>\n",
       "      <th>Birth Weight</th>\n",
       "      <th>Birth Length</th>\n",
       "      <th>Body Weight</th>\n",
       "      <th>Body Length</th>\n",
       "    </tr>\n",
       "  </thead>\n",
       "  <tbody>\n",
       "    <tr>\n",
       "      <th>count</th>\n",
       "      <td>7573.000000</td>\n",
       "      <td>7573.000000</td>\n",
       "      <td>7573.000000</td>\n",
       "      <td>7573.000000</td>\n",
       "      <td>7573.000000</td>\n",
       "    </tr>\n",
       "    <tr>\n",
       "      <th>mean</th>\n",
       "      <td>14.886967</td>\n",
       "      <td>2.762208</td>\n",
       "      <td>49.084643</td>\n",
       "      <td>7.630648</td>\n",
       "      <td>69.120269</td>\n",
       "    </tr>\n",
       "    <tr>\n",
       "      <th>std</th>\n",
       "      <td>8.580291</td>\n",
       "      <td>0.297725</td>\n",
       "      <td>0.436202</td>\n",
       "      <td>1.762529</td>\n",
       "      <td>9.401527</td>\n",
       "    </tr>\n",
       "    <tr>\n",
       "      <th>min</th>\n",
       "      <td>6.000000</td>\n",
       "      <td>2.000000</td>\n",
       "      <td>48.000000</td>\n",
       "      <td>2.900000</td>\n",
       "      <td>49.000000</td>\n",
       "    </tr>\n",
       "    <tr>\n",
       "      <th>25%</th>\n",
       "      <td>10.000000</td>\n",
       "      <td>2.800000</td>\n",
       "      <td>49.000000</td>\n",
       "      <td>7.000000</td>\n",
       "      <td>65.000000</td>\n",
       "    </tr>\n",
       "    <tr>\n",
       "      <th>50%</th>\n",
       "      <td>13.000000</td>\n",
       "      <td>2.800000</td>\n",
       "      <td>49.000000</td>\n",
       "      <td>7.700000</td>\n",
       "      <td>69.000000</td>\n",
       "    </tr>\n",
       "    <tr>\n",
       "      <th>75%</th>\n",
       "      <td>16.000000</td>\n",
       "      <td>3.000000</td>\n",
       "      <td>49.000000</td>\n",
       "      <td>9.000000</td>\n",
       "      <td>72.200000</td>\n",
       "    </tr>\n",
       "    <tr>\n",
       "      <th>max</th>\n",
       "      <td>48.000000</td>\n",
       "      <td>3.100000</td>\n",
       "      <td>50.000000</td>\n",
       "      <td>10.500000</td>\n",
       "      <td>92.700000</td>\n",
       "    </tr>\n",
       "  </tbody>\n",
       "</table>\n",
       "</div>"
      ],
      "text/plain": [
       "               Age  Birth Weight  Birth Length  Body Weight  Body Length\n",
       "count  7573.000000   7573.000000   7573.000000  7573.000000  7573.000000\n",
       "mean     14.886967      2.762208     49.084643     7.630648    69.120269\n",
       "std       8.580291      0.297725      0.436202     1.762529     9.401527\n",
       "min       6.000000      2.000000     48.000000     2.900000    49.000000\n",
       "25%      10.000000      2.800000     49.000000     7.000000    65.000000\n",
       "50%      13.000000      2.800000     49.000000     7.700000    69.000000\n",
       "75%      16.000000      3.000000     49.000000     9.000000    72.200000\n",
       "max      48.000000      3.100000     50.000000    10.500000    92.700000"
      ]
     },
     "execution_count": 10,
     "metadata": {},
     "output_type": "execute_result"
    }
   ],
   "source": [
    "data_stunt.describe()"
   ]
  },
  {
   "cell_type": "code",
   "execution_count": 11,
   "id": "28b6e544e4c6e8d",
   "metadata": {
    "ExecuteTime": {
     "end_time": "2024-05-23T10:20:27.955891900Z",
     "start_time": "2024-05-23T10:20:27.939588500Z"
    },
    "collapsed": false
   },
   "outputs": [
    {
     "data": {
      "text/plain": [
       "(7573, 8)"
      ]
     },
     "execution_count": 11,
     "metadata": {},
     "output_type": "execute_result"
    }
   ],
   "source": [
    "data_stunt.shape"
   ]
  },
  {
   "cell_type": "markdown",
   "id": "b4fb6748",
   "metadata": {},
   "source": [
    "* Menghapus kolom yang tidak diperlukan"
   ]
  },
  {
   "cell_type": "code",
   "execution_count": 15,
   "id": "6b3817a0ddbf99ba",
   "metadata": {
    "collapsed": false
   },
   "outputs": [],
   "source": [
    "data_stunt = data_stunt.drop(columns=['Birth Weight', 'Birth Length'])"
   ]
  },
  {
   "cell_type": "code",
   "execution_count": 16,
   "id": "cf33cadd",
   "metadata": {},
   "outputs": [
    {
     "data": {
      "text/plain": [
       "(7573, 6)"
      ]
     },
     "execution_count": 16,
     "metadata": {},
     "output_type": "execute_result"
    }
   ],
   "source": [
    "data_stunt.shape"
   ]
  },
  {
   "cell_type": "code",
   "execution_count": 17,
   "id": "b02856f1",
   "metadata": {},
   "outputs": [
    {
     "data": {
      "text/html": [
       "<div>\n",
       "<style scoped>\n",
       "    .dataframe tbody tr th:only-of-type {\n",
       "        vertical-align: middle;\n",
       "    }\n",
       "\n",
       "    .dataframe tbody tr th {\n",
       "        vertical-align: top;\n",
       "    }\n",
       "\n",
       "    .dataframe thead th {\n",
       "        text-align: right;\n",
       "    }\n",
       "</style>\n",
       "<table border=\"1\" class=\"dataframe\">\n",
       "  <thead>\n",
       "    <tr style=\"text-align: right;\">\n",
       "      <th></th>\n",
       "      <th>Gender</th>\n",
       "      <th>Age</th>\n",
       "      <th>Body Weight</th>\n",
       "      <th>Body Length</th>\n",
       "      <th>Breastfeeding</th>\n",
       "      <th>Stunting</th>\n",
       "    </tr>\n",
       "  </thead>\n",
       "  <tbody>\n",
       "    <tr>\n",
       "      <th>0</th>\n",
       "      <td>Male</td>\n",
       "      <td>17</td>\n",
       "      <td>10.0</td>\n",
       "      <td>72.2</td>\n",
       "      <td>No</td>\n",
       "      <td>No</td>\n",
       "    </tr>\n",
       "    <tr>\n",
       "      <th>1</th>\n",
       "      <td>Female</td>\n",
       "      <td>11</td>\n",
       "      <td>2.9</td>\n",
       "      <td>65.0</td>\n",
       "      <td>No</td>\n",
       "      <td>Yes</td>\n",
       "    </tr>\n",
       "    <tr>\n",
       "      <th>2</th>\n",
       "      <td>Male</td>\n",
       "      <td>16</td>\n",
       "      <td>8.5</td>\n",
       "      <td>72.2</td>\n",
       "      <td>No</td>\n",
       "      <td>Yes</td>\n",
       "    </tr>\n",
       "    <tr>\n",
       "      <th>3</th>\n",
       "      <td>Male</td>\n",
       "      <td>31</td>\n",
       "      <td>6.4</td>\n",
       "      <td>63.0</td>\n",
       "      <td>No</td>\n",
       "      <td>Yes</td>\n",
       "    </tr>\n",
       "    <tr>\n",
       "      <th>4</th>\n",
       "      <td>Male</td>\n",
       "      <td>15</td>\n",
       "      <td>10.5</td>\n",
       "      <td>49.0</td>\n",
       "      <td>No</td>\n",
       "      <td>Yes</td>\n",
       "    </tr>\n",
       "  </tbody>\n",
       "</table>\n",
       "</div>"
      ],
      "text/plain": [
       "   Gender  Age  Body Weight  Body Length Breastfeeding Stunting\n",
       "0    Male   17         10.0         72.2            No       No\n",
       "1  Female   11          2.9         65.0            No      Yes\n",
       "2    Male   16          8.5         72.2            No      Yes\n",
       "3    Male   31          6.4         63.0            No      Yes\n",
       "4    Male   15         10.5         49.0            No      Yes"
      ]
     },
     "execution_count": 17,
     "metadata": {},
     "output_type": "execute_result"
    }
   ],
   "source": [
    "data_stunt.head()"
   ]
  },
  {
   "cell_type": "code",
   "execution_count": 18,
   "id": "b73a8a0f",
   "metadata": {},
   "outputs": [],
   "source": [
    "data_stunt.to_csv('dataset_bersih.csv', index=False)"
   ]
  },
  {
   "cell_type": "code",
   "execution_count": null,
   "id": "1a5e9aa8",
   "metadata": {},
   "outputs": [],
   "source": []
  }
 ],
 "metadata": {
  "kernelspec": {
   "display_name": "Python 3",
   "language": "python",
   "name": "python3"
  },
  "language_info": {
   "codemirror_mode": {
    "name": "ipython",
    "version": 3
   },
   "file_extension": ".py",
   "mimetype": "text/x-python",
   "name": "python",
   "nbconvert_exporter": "python",
   "pygments_lexer": "ipython3",
   "version": "3.10.7"
  }
 },
 "nbformat": 4,
 "nbformat_minor": 5
}
